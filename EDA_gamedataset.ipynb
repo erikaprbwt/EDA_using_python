{
  "nbformat": 4,
  "nbformat_minor": 0,
  "metadata": {
    "colab": {
      "name": "EDA_gamedataset.ipynb",
      "provenance": [],
      "collapsed_sections": [],
      "mount_file_id": "1CGJMAtjonKXB7djsP6z9ATCaRuLMne_0",
      "authorship_tag": "ABX9TyNncUSHgiG8hN24/CQt4p6u",
      "include_colab_link": true
    },
    "kernelspec": {
      "display_name": "Python 3",
      "name": "python3"
    },
    "language_info": {
      "name": "python"
    }
  },
  "cells": [
    {
      "cell_type": "markdown",
      "metadata": {
        "id": "view-in-github",
        "colab_type": "text"
      },
      "source": [
        "<a href=\"https://colab.research.google.com/github/erikaprbwt/EDA_using_python/blob/main/EDA_gamedataset.ipynb\" target=\"_parent\"><img src=\"https://colab.research.google.com/assets/colab-badge.svg\" alt=\"Open In Colab\"/></a>"
      ]
    },
    {
      "cell_type": "markdown",
      "metadata": {
        "id": "FqyQZle-meGo"
      },
      "source": [
        "# **Exploratory Data Analysis**"
      ]
    },
    {
      "cell_type": "markdown",
      "metadata": {
        "id": "AoXbO49wYP-_"
      },
      "source": [
        "##**Import data penjualan video game (vgsales.csv)**"
      ]
    },
    {
      "cell_type": "code",
      "metadata": {
        "colab": {
          "base_uri": "https://localhost:8080/"
        },
        "id": "M4gB8Z78NHHW",
        "outputId": "fc5b500b-db4a-4802-9d15-4368c61bc3f6"
      },
      "source": [
        "#mounting google drive ke dalam google colab agar dapat membuka file dari gdrive\n",
        "from google.colab import drive\n",
        "drive.mount('/content/drive')"
      ],
      "execution_count": null,
      "outputs": [
        {
          "output_type": "stream",
          "name": "stdout",
          "text": [
            "Drive already mounted at /content/drive; to attempt to forcibly remount, call drive.mount(\"/content/drive\", force_remount=True).\n"
          ]
        }
      ]
    },
    {
      "cell_type": "code",
      "metadata": {
        "id": "a8UpcHpiXEt_"
      },
      "source": [
        "#import libraries yang dibutuhkan untuk analisis dan visualisasi data\n",
        "import numpy as np \n",
        "import pandas as pd \n",
        "import matplotlib.pyplot as plt\n",
        "import seaborn as sns"
      ],
      "execution_count": null,
      "outputs": []
    },
    {
      "cell_type": "code",
      "metadata": {
        "id": "9wVSoB7eVLf6"
      },
      "source": [
        "#import dataset csv dari google drive\n",
        "df=pd.read_csv('/content/drive/MyDrive/vgsales.csv')"
      ],
      "execution_count": null,
      "outputs": []
    },
    {
      "cell_type": "markdown",
      "metadata": {
        "id": "vAlLdjhB11Px"
      },
      "source": [
        "Data dictionary:\n",
        "*  Rank - Ranking of overall sales\n",
        "*  Name - The games name\n",
        "* Platform - Platform of the games release (i.e. PC,PS4, etc.)\n",
        "* Year - Year of the game's release\n",
        "* Genre - Genre of the game\n",
        "* Publisher - Publisher of the game\n",
        "* NA_Sales - Sales in North America (in millions)\n",
        "* EU_Sales - Sales in Europe (in millions)\n",
        "* JP_Sales - Sales in Japan (in millions)\n",
        "* Other_Sales - Sales in the rest of the world (in millions)\n",
        "* Global_Sales - Total worldwide sales.\n",
        "Source: https://www.kaggle.com/gregorut/videogamesales"
      ]
    },
    {
      "cell_type": "code",
      "metadata": {
        "id": "Sre2v_5wY-Xi"
      },
      "source": [
        "#memodifikasi library matplotlib untuk menampilkan gambar dengan ukuran tertentu\n",
        "from matplotlib import rcParams\n",
        "rcParams['figure.figsize'] = (12,4)\n",
        "rcParams['lines.linewidth'] = 3\n",
        "rcParams['xtick.labelsize'] = 'small'\n",
        "rcParams['ytick.labelsize'] = 'small'"
      ],
      "execution_count": null,
      "outputs": []
    },
    {
      "cell_type": "markdown",
      "metadata": {
        "id": "8homPme6uLS1"
      },
      "source": [
        "## **Statistik Deskriptif Dataset**"
      ]
    },
    {
      "cell_type": "code",
      "metadata": {
        "colab": {
          "base_uri": "https://localhost:8080/"
        },
        "id": "lXXFgRGlaIhP",
        "outputId": "8a4c8f9f-9369-464e-cde6-334de4e29514"
      },
      "source": [
        "#menampilkan informasi dataset\n",
        "df.info()"
      ],
      "execution_count": null,
      "outputs": [
        {
          "output_type": "stream",
          "name": "stdout",
          "text": [
            "<class 'pandas.core.frame.DataFrame'>\n",
            "RangeIndex: 16598 entries, 0 to 16597\n",
            "Data columns (total 11 columns):\n",
            " #   Column        Non-Null Count  Dtype  \n",
            "---  ------        --------------  -----  \n",
            " 0   Rank          16598 non-null  int64  \n",
            " 1   Name          16598 non-null  object \n",
            " 2   Platform      16598 non-null  object \n",
            " 3   Year          16327 non-null  float64\n",
            " 4   Genre         16598 non-null  object \n",
            " 5   Publisher     16540 non-null  object \n",
            " 6   NA_Sales      16598 non-null  float64\n",
            " 7   EU_Sales      16598 non-null  float64\n",
            " 8   JP_Sales      16598 non-null  float64\n",
            " 9   Other_Sales   16598 non-null  float64\n",
            " 10  Global_Sales  16598 non-null  float64\n",
            "dtypes: float64(6), int64(1), object(4)\n",
            "memory usage: 1.4+ MB\n"
          ]
        }
      ]
    },
    {
      "cell_type": "markdown",
      "metadata": {
        "id": "Q-c5Kj6YuKQR"
      },
      "source": [
        "*   Dataset yang digunakan yaitu penjualan video game (vgsales.csv) yang memiliki 16598 baris dan 11 atribut.\n",
        "*   Atribut terdiri dari 6 data bertipe float (desimal), 1 tipe integer dan 4 tipe object (string).\n",
        "*   Pada atribut `Year` dan `Publisher`, terdapat sejumlah data null."
      ]
    },
    {
      "cell_type": "code",
      "metadata": {
        "colab": {
          "base_uri": "https://localhost:8080/",
          "height": 295
        },
        "id": "_F8BRb5mYJNR",
        "outputId": "f14c8b00-2288-43c7-f23b-fa15d3d5de1e"
      },
      "source": [
        "#menampilkan 5 baris pertama dataset\n",
        "df.head()"
      ],
      "execution_count": null,
      "outputs": [
        {
          "output_type": "execute_result",
          "data": {
            "text/html": [
              "<div>\n",
              "<style scoped>\n",
              "    .dataframe tbody tr th:only-of-type {\n",
              "        vertical-align: middle;\n",
              "    }\n",
              "\n",
              "    .dataframe tbody tr th {\n",
              "        vertical-align: top;\n",
              "    }\n",
              "\n",
              "    .dataframe thead th {\n",
              "        text-align: right;\n",
              "    }\n",
              "</style>\n",
              "<table border=\"1\" class=\"dataframe\">\n",
              "  <thead>\n",
              "    <tr style=\"text-align: right;\">\n",
              "      <th></th>\n",
              "      <th>Rank</th>\n",
              "      <th>Name</th>\n",
              "      <th>Platform</th>\n",
              "      <th>Year</th>\n",
              "      <th>Genre</th>\n",
              "      <th>Publisher</th>\n",
              "      <th>NA_Sales</th>\n",
              "      <th>EU_Sales</th>\n",
              "      <th>JP_Sales</th>\n",
              "      <th>Other_Sales</th>\n",
              "      <th>Global_Sales</th>\n",
              "    </tr>\n",
              "  </thead>\n",
              "  <tbody>\n",
              "    <tr>\n",
              "      <th>0</th>\n",
              "      <td>1</td>\n",
              "      <td>Wii Sports</td>\n",
              "      <td>Wii</td>\n",
              "      <td>2006.0</td>\n",
              "      <td>Sports</td>\n",
              "      <td>Nintendo</td>\n",
              "      <td>41.49</td>\n",
              "      <td>29.02</td>\n",
              "      <td>3.77</td>\n",
              "      <td>8.46</td>\n",
              "      <td>82.74</td>\n",
              "    </tr>\n",
              "    <tr>\n",
              "      <th>1</th>\n",
              "      <td>2</td>\n",
              "      <td>Super Mario Bros.</td>\n",
              "      <td>NES</td>\n",
              "      <td>1985.0</td>\n",
              "      <td>Platform</td>\n",
              "      <td>Nintendo</td>\n",
              "      <td>29.08</td>\n",
              "      <td>3.58</td>\n",
              "      <td>6.81</td>\n",
              "      <td>0.77</td>\n",
              "      <td>40.24</td>\n",
              "    </tr>\n",
              "    <tr>\n",
              "      <th>2</th>\n",
              "      <td>3</td>\n",
              "      <td>Mario Kart Wii</td>\n",
              "      <td>Wii</td>\n",
              "      <td>2008.0</td>\n",
              "      <td>Racing</td>\n",
              "      <td>Nintendo</td>\n",
              "      <td>15.85</td>\n",
              "      <td>12.88</td>\n",
              "      <td>3.79</td>\n",
              "      <td>3.31</td>\n",
              "      <td>35.82</td>\n",
              "    </tr>\n",
              "    <tr>\n",
              "      <th>3</th>\n",
              "      <td>4</td>\n",
              "      <td>Wii Sports Resort</td>\n",
              "      <td>Wii</td>\n",
              "      <td>2009.0</td>\n",
              "      <td>Sports</td>\n",
              "      <td>Nintendo</td>\n",
              "      <td>15.75</td>\n",
              "      <td>11.01</td>\n",
              "      <td>3.28</td>\n",
              "      <td>2.96</td>\n",
              "      <td>33.00</td>\n",
              "    </tr>\n",
              "    <tr>\n",
              "      <th>4</th>\n",
              "      <td>5</td>\n",
              "      <td>Pokemon Red/Pokemon Blue</td>\n",
              "      <td>GB</td>\n",
              "      <td>1996.0</td>\n",
              "      <td>Role-Playing</td>\n",
              "      <td>Nintendo</td>\n",
              "      <td>11.27</td>\n",
              "      <td>8.89</td>\n",
              "      <td>10.22</td>\n",
              "      <td>1.00</td>\n",
              "      <td>31.37</td>\n",
              "    </tr>\n",
              "  </tbody>\n",
              "</table>\n",
              "</div>"
            ],
            "text/plain": [
              "   Rank                      Name Platform  ...  JP_Sales Other_Sales Global_Sales\n",
              "0     1                Wii Sports      Wii  ...      3.77        8.46        82.74\n",
              "1     2         Super Mario Bros.      NES  ...      6.81        0.77        40.24\n",
              "2     3            Mario Kart Wii      Wii  ...      3.79        3.31        35.82\n",
              "3     4         Wii Sports Resort      Wii  ...      3.28        2.96        33.00\n",
              "4     5  Pokemon Red/Pokemon Blue       GB  ...     10.22        1.00        31.37\n",
              "\n",
              "[5 rows x 11 columns]"
            ]
          },
          "metadata": {},
          "execution_count": 7
        }
      ]
    },
    {
      "cell_type": "markdown",
      "metadata": {
        "id": "5aktrHgIctNC"
      },
      "source": [
        "*   Jika dilihat dari 5 baris teratas, tidak terlihat anomali atau dapat dikatakan bahwa data sesuai dengan nama atribut.\n",
        "*   Atribut `Year` bertipe float dan belum dapat diubah menjadi integer karena mengandung data null."
      ]
    },
    {
      "cell_type": "code",
      "metadata": {
        "colab": {
          "base_uri": "https://localhost:8080/"
        },
        "id": "UXNt7W3FInpe",
        "outputId": "aa426c98-834b-42d3-f8c4-fac218bdd25f"
      },
      "source": [
        "#mengetahui banyak data `Year` yang berisi null\n",
        "df['Year'].isna().sum()"
      ],
      "execution_count": null,
      "outputs": [
        {
          "output_type": "execute_result",
          "data": {
            "text/plain": [
              "271"
            ]
          },
          "metadata": {},
          "execution_count": 62
        }
      ]
    },
    {
      "cell_type": "code",
      "metadata": {
        "id": "D6Hoz2PXbYYp"
      },
      "source": [
        "#mendefinisikan atribut berdasarkan tipe data numerik atau ketegorik\n",
        "num = ['Year','NA_Sales', 'EU_Sales', 'JP_Sales','Other_Sales','Global_Sales']\n",
        "cats = ['Name','Platform','Genre','Publisher']"
      ],
      "execution_count": null,
      "outputs": []
    },
    {
      "cell_type": "code",
      "metadata": {
        "colab": {
          "base_uri": "https://localhost:8080/",
          "height": 300
        },
        "id": "1SAOCiYthR3i",
        "outputId": "ee029008-04aa-49f4-fa1c-d1a5e4fe48b7"
      },
      "source": [
        "#menampilkan statistik deskriptif data numerik\n",
        "df[num].describe()"
      ],
      "execution_count": null,
      "outputs": [
        {
          "output_type": "execute_result",
          "data": {
            "text/html": [
              "<div>\n",
              "<style scoped>\n",
              "    .dataframe tbody tr th:only-of-type {\n",
              "        vertical-align: middle;\n",
              "    }\n",
              "\n",
              "    .dataframe tbody tr th {\n",
              "        vertical-align: top;\n",
              "    }\n",
              "\n",
              "    .dataframe thead th {\n",
              "        text-align: right;\n",
              "    }\n",
              "</style>\n",
              "<table border=\"1\" class=\"dataframe\">\n",
              "  <thead>\n",
              "    <tr style=\"text-align: right;\">\n",
              "      <th></th>\n",
              "      <th>Year</th>\n",
              "      <th>NA_Sales</th>\n",
              "      <th>EU_Sales</th>\n",
              "      <th>JP_Sales</th>\n",
              "      <th>Other_Sales</th>\n",
              "      <th>Global_Sales</th>\n",
              "    </tr>\n",
              "  </thead>\n",
              "  <tbody>\n",
              "    <tr>\n",
              "      <th>count</th>\n",
              "      <td>16327.000000</td>\n",
              "      <td>16598.000000</td>\n",
              "      <td>16598.000000</td>\n",
              "      <td>16598.000000</td>\n",
              "      <td>16598.000000</td>\n",
              "      <td>16598.000000</td>\n",
              "    </tr>\n",
              "    <tr>\n",
              "      <th>mean</th>\n",
              "      <td>2006.406443</td>\n",
              "      <td>0.264667</td>\n",
              "      <td>0.146652</td>\n",
              "      <td>0.077782</td>\n",
              "      <td>0.048063</td>\n",
              "      <td>0.537441</td>\n",
              "    </tr>\n",
              "    <tr>\n",
              "      <th>std</th>\n",
              "      <td>5.828981</td>\n",
              "      <td>0.816683</td>\n",
              "      <td>0.505351</td>\n",
              "      <td>0.309291</td>\n",
              "      <td>0.188588</td>\n",
              "      <td>1.555028</td>\n",
              "    </tr>\n",
              "    <tr>\n",
              "      <th>min</th>\n",
              "      <td>1980.000000</td>\n",
              "      <td>0.000000</td>\n",
              "      <td>0.000000</td>\n",
              "      <td>0.000000</td>\n",
              "      <td>0.000000</td>\n",
              "      <td>0.010000</td>\n",
              "    </tr>\n",
              "    <tr>\n",
              "      <th>25%</th>\n",
              "      <td>2003.000000</td>\n",
              "      <td>0.000000</td>\n",
              "      <td>0.000000</td>\n",
              "      <td>0.000000</td>\n",
              "      <td>0.000000</td>\n",
              "      <td>0.060000</td>\n",
              "    </tr>\n",
              "    <tr>\n",
              "      <th>50%</th>\n",
              "      <td>2007.000000</td>\n",
              "      <td>0.080000</td>\n",
              "      <td>0.020000</td>\n",
              "      <td>0.000000</td>\n",
              "      <td>0.010000</td>\n",
              "      <td>0.170000</td>\n",
              "    </tr>\n",
              "    <tr>\n",
              "      <th>75%</th>\n",
              "      <td>2010.000000</td>\n",
              "      <td>0.240000</td>\n",
              "      <td>0.110000</td>\n",
              "      <td>0.040000</td>\n",
              "      <td>0.040000</td>\n",
              "      <td>0.470000</td>\n",
              "    </tr>\n",
              "    <tr>\n",
              "      <th>max</th>\n",
              "      <td>2020.000000</td>\n",
              "      <td>41.490000</td>\n",
              "      <td>29.020000</td>\n",
              "      <td>10.220000</td>\n",
              "      <td>10.570000</td>\n",
              "      <td>82.740000</td>\n",
              "    </tr>\n",
              "  </tbody>\n",
              "</table>\n",
              "</div>"
            ],
            "text/plain": [
              "               Year      NA_Sales  ...   Other_Sales  Global_Sales\n",
              "count  16327.000000  16598.000000  ...  16598.000000  16598.000000\n",
              "mean    2006.406443      0.264667  ...      0.048063      0.537441\n",
              "std        5.828981      0.816683  ...      0.188588      1.555028\n",
              "min     1980.000000      0.000000  ...      0.000000      0.010000\n",
              "25%     2003.000000      0.000000  ...      0.000000      0.060000\n",
              "50%     2007.000000      0.080000  ...      0.010000      0.170000\n",
              "75%     2010.000000      0.240000  ...      0.040000      0.470000\n",
              "max     2020.000000     41.490000  ...     10.570000     82.740000\n",
              "\n",
              "[8 rows x 6 columns]"
            ]
          },
          "metadata": {},
          "execution_count": 9
        }
      ]
    },
    {
      "cell_type": "markdown",
      "metadata": {
        "id": "I8mJZfks1YhC"
      },
      "source": [
        "*   Berdasarkan atribut `Year`, dataset berisi data penjualan video game dari tahun 1980 hingga 2020.\n",
        "*   Atribut `NA_Sales`, `EU_Sales`, `JP_Sales`dan `Other_Sales` mengandung terlalu banyak nilai 0 (tidak terjual) hingga mendominasi 25% hingga 50% quantil."
      ]
    },
    {
      "cell_type": "code",
      "metadata": {
        "colab": {
          "base_uri": "https://localhost:8080/",
          "height": 174
        },
        "id": "EvK5j7VognKt",
        "outputId": "6576dff4-7500-4b5b-f2cb-f56076478ca9"
      },
      "source": [
        "#menampilkan statistik deskriptif data kategorik\n",
        "df[cats].describe()"
      ],
      "execution_count": null,
      "outputs": [
        {
          "output_type": "execute_result",
          "data": {
            "text/html": [
              "<div>\n",
              "<style scoped>\n",
              "    .dataframe tbody tr th:only-of-type {\n",
              "        vertical-align: middle;\n",
              "    }\n",
              "\n",
              "    .dataframe tbody tr th {\n",
              "        vertical-align: top;\n",
              "    }\n",
              "\n",
              "    .dataframe thead th {\n",
              "        text-align: right;\n",
              "    }\n",
              "</style>\n",
              "<table border=\"1\" class=\"dataframe\">\n",
              "  <thead>\n",
              "    <tr style=\"text-align: right;\">\n",
              "      <th></th>\n",
              "      <th>Name</th>\n",
              "      <th>Platform</th>\n",
              "      <th>Genre</th>\n",
              "      <th>Publisher</th>\n",
              "    </tr>\n",
              "  </thead>\n",
              "  <tbody>\n",
              "    <tr>\n",
              "      <th>count</th>\n",
              "      <td>16598</td>\n",
              "      <td>16598</td>\n",
              "      <td>16598</td>\n",
              "      <td>16540</td>\n",
              "    </tr>\n",
              "    <tr>\n",
              "      <th>unique</th>\n",
              "      <td>11493</td>\n",
              "      <td>31</td>\n",
              "      <td>12</td>\n",
              "      <td>578</td>\n",
              "    </tr>\n",
              "    <tr>\n",
              "      <th>top</th>\n",
              "      <td>Need for Speed: Most Wanted</td>\n",
              "      <td>DS</td>\n",
              "      <td>Action</td>\n",
              "      <td>Electronic Arts</td>\n",
              "    </tr>\n",
              "    <tr>\n",
              "      <th>freq</th>\n",
              "      <td>12</td>\n",
              "      <td>2163</td>\n",
              "      <td>3316</td>\n",
              "      <td>1351</td>\n",
              "    </tr>\n",
              "  </tbody>\n",
              "</table>\n",
              "</div>"
            ],
            "text/plain": [
              "                               Name Platform   Genre        Publisher\n",
              "count                         16598    16598   16598            16540\n",
              "unique                        11493       31      12              578\n",
              "top     Need for Speed: Most Wanted       DS  Action  Electronic Arts\n",
              "freq                             12     2163    3316             1351"
            ]
          },
          "metadata": {},
          "execution_count": 10
        }
      ]
    },
    {
      "cell_type": "markdown",
      "metadata": {
        "id": "pGr_F36H6w8M"
      },
      "source": [
        "*  Atribut `Name` dan `Publisher` memiliki terlalu banyak nilai unik yaitu berturut-turut 11493 dan 578.\n",
        "*  Atribut `Platform` memiliki nilai yang sering muncul sebanyak 2163 data yaitu \"DS\".\n",
        "*  Atribut `Genre` memiliki nilai yang sering muncul sebanyak 3316 data yaitu \"Action\".\n",
        "*  Diantara data bertipe kategorik, hanya atribut `Publisher` yang mengandung nilai null."
      ]
    },
    {
      "cell_type": "code",
      "metadata": {
        "colab": {
          "base_uri": "https://localhost:8080/"
        },
        "id": "nhl2uWJ7NSth",
        "outputId": "645b6c4e-5285-4f6b-ae02-b4231b6775f0"
      },
      "source": [
        "#menampilkan banyaknya data null dari atribut `Publisher`\n",
        "df['Publisher'].isna().sum()"
      ],
      "execution_count": null,
      "outputs": [
        {
          "output_type": "execute_result",
          "data": {
            "text/plain": [
              "58"
            ]
          },
          "metadata": {},
          "execution_count": 64
        }
      ]
    },
    {
      "cell_type": "markdown",
      "metadata": {
        "id": "aAnOR1PTIT4_"
      },
      "source": [
        "## **Univariate Analysis**"
      ]
    },
    {
      "cell_type": "code",
      "metadata": {
        "colab": {
          "base_uri": "https://localhost:8080/",
          "height": 252
        },
        "id": "i5O8FMcObnKu",
        "outputId": "1cc1280b-9333-42e6-b4fc-7d978035cd0c"
      },
      "source": [
        "#membuat boxplot untuk mendeteksi outlier\n",
        "for i in range(0, len(num)):\n",
        "    plt.subplot(1, len(num), i+1)\n",
        "    sns.boxplot(y=df[num[i]], color='green',orient='v')"
      ],
      "execution_count": null,
      "outputs": [
        {
          "output_type": "display_data",
          "data": {
            "image/png": "[encoded data removed]",
            "text/plain": [
              "<Figure size 864x288 with 6 Axes>"
            ]
          },
          "metadata": {
            "needs_background": "light"
          }
        }
      ]
    },
    {
      "cell_type": "markdown",
      "metadata": {
        "id": "Q5zd1iME8Dua"
      },
      "source": [
        "*   Outlier terlihat pada `NA_Sales`, `EU_Sales`, `JP_Sales`, `Other_Sales` dan `Global_Sales` setelah data bernilai 0 hingga 1 juta.\n",
        "*   Boxplot `Year` tidak perlu diperhatikan sebaran outliernya karena merupakan atribut waktu."
      ]
    },
    {
      "cell_type": "code",
      "metadata": {
        "colab": {
          "base_uri": "https://localhost:8080/",
          "height": 415
        },
        "id": "ViurZNCSA-Of",
        "outputId": "f95baa44-b3a0-4ac3-961e-9061bb6da7d0"
      },
      "source": [
        "#menampilkan data di baris tertentu\n",
        "df[2000:2010]"
      ],
      "execution_count": null,
      "outputs": [
        {
          "output_type": "execute_result",
          "data": {
            "text/html": [
              "<div>\n",
              "<style scoped>\n",
              "    .dataframe tbody tr th:only-of-type {\n",
              "        vertical-align: middle;\n",
              "    }\n",
              "\n",
              "    .dataframe tbody tr th {\n",
              "        vertical-align: top;\n",
              "    }\n",
              "\n",
              "    .dataframe thead th {\n",
              "        text-align: right;\n",
              "    }\n",
              "</style>\n",
              "<table border=\"1\" class=\"dataframe\">\n",
              "  <thead>\n",
              "    <tr style=\"text-align: right;\">\n",
              "      <th></th>\n",
              "      <th>Rank</th>\n",
              "      <th>Name</th>\n",
              "      <th>Platform</th>\n",
              "      <th>Year</th>\n",
              "      <th>Genre</th>\n",
              "      <th>Publisher</th>\n",
              "      <th>NA_Sales</th>\n",
              "      <th>EU_Sales</th>\n",
              "      <th>JP_Sales</th>\n",
              "      <th>Other_Sales</th>\n",
              "      <th>Global_Sales</th>\n",
              "    </tr>\n",
              "  </thead>\n",
              "  <tbody>\n",
              "    <tr>\n",
              "      <th>2000</th>\n",
              "      <td>2002</td>\n",
              "      <td>F-Zero: Maximum Velocity</td>\n",
              "      <td>GBA</td>\n",
              "      <td>2001.0</td>\n",
              "      <td>Racing</td>\n",
              "      <td>Nintendo</td>\n",
              "      <td>0.39</td>\n",
              "      <td>0.16</td>\n",
              "      <td>0.37</td>\n",
              "      <td>0.12</td>\n",
              "      <td>1.04</td>\n",
              "    </tr>\n",
              "    <tr>\n",
              "      <th>2001</th>\n",
              "      <td>2003</td>\n",
              "      <td>Bomberman 64</td>\n",
              "      <td>N64</td>\n",
              "      <td>1997.0</td>\n",
              "      <td>Puzzle</td>\n",
              "      <td>Hudson Soft</td>\n",
              "      <td>0.50</td>\n",
              "      <td>0.20</td>\n",
              "      <td>0.31</td>\n",
              "      <td>0.03</td>\n",
              "      <td>1.04</td>\n",
              "    </tr>\n",
              "    <tr>\n",
              "      <th>2002</th>\n",
              "      <td>2004</td>\n",
              "      <td>Jeremy McGrath Supercross 98</td>\n",
              "      <td>PS</td>\n",
              "      <td>1998.0</td>\n",
              "      <td>Racing</td>\n",
              "      <td>Acclaim Entertainment</td>\n",
              "      <td>0.91</td>\n",
              "      <td>0.10</td>\n",
              "      <td>0.00</td>\n",
              "      <td>0.03</td>\n",
              "      <td>1.04</td>\n",
              "    </tr>\n",
              "    <tr>\n",
              "      <th>2003</th>\n",
              "      <td>2005</td>\n",
              "      <td>LEGO Indiana Jones 2: The Adventure Continues</td>\n",
              "      <td>X360</td>\n",
              "      <td>2009.0</td>\n",
              "      <td>Action</td>\n",
              "      <td>Activision</td>\n",
              "      <td>0.62</td>\n",
              "      <td>0.33</td>\n",
              "      <td>0.00</td>\n",
              "      <td>0.09</td>\n",
              "      <td>1.04</td>\n",
              "    </tr>\n",
              "    <tr>\n",
              "      <th>2004</th>\n",
              "      <td>2006</td>\n",
              "      <td>Project CARS</td>\n",
              "      <td>PS4</td>\n",
              "      <td>2015.0</td>\n",
              "      <td>Racing</td>\n",
              "      <td>Slightly Mad Studios</td>\n",
              "      <td>0.17</td>\n",
              "      <td>0.69</td>\n",
              "      <td>0.02</td>\n",
              "      <td>0.15</td>\n",
              "      <td>1.04</td>\n",
              "    </tr>\n",
              "    <tr>\n",
              "      <th>2005</th>\n",
              "      <td>2007</td>\n",
              "      <td>Need for Speed: Most Wanted</td>\n",
              "      <td>XB</td>\n",
              "      <td>2005.0</td>\n",
              "      <td>Racing</td>\n",
              "      <td>Electronic Arts</td>\n",
              "      <td>0.53</td>\n",
              "      <td>0.46</td>\n",
              "      <td>0.00</td>\n",
              "      <td>0.05</td>\n",
              "      <td>1.04</td>\n",
              "    </tr>\n",
              "    <tr>\n",
              "      <th>2006</th>\n",
              "      <td>2008</td>\n",
              "      <td>Kirby: Mass Attack</td>\n",
              "      <td>DS</td>\n",
              "      <td>2011.0</td>\n",
              "      <td>Platform</td>\n",
              "      <td>Nintendo</td>\n",
              "      <td>0.52</td>\n",
              "      <td>0.06</td>\n",
              "      <td>0.41</td>\n",
              "      <td>0.05</td>\n",
              "      <td>1.04</td>\n",
              "    </tr>\n",
              "    <tr>\n",
              "      <th>2007</th>\n",
              "      <td>2009</td>\n",
              "      <td>LEGO Marvel Super Heroes</td>\n",
              "      <td>XOne</td>\n",
              "      <td>2013.0</td>\n",
              "      <td>Action</td>\n",
              "      <td>Warner Bros. Interactive Entertainment</td>\n",
              "      <td>0.61</td>\n",
              "      <td>0.34</td>\n",
              "      <td>0.00</td>\n",
              "      <td>0.09</td>\n",
              "      <td>1.04</td>\n",
              "    </tr>\n",
              "    <tr>\n",
              "      <th>2008</th>\n",
              "      <td>2010</td>\n",
              "      <td>ZhuZhu Pets</td>\n",
              "      <td>DS</td>\n",
              "      <td>2010.0</td>\n",
              "      <td>Simulation</td>\n",
              "      <td>Activision</td>\n",
              "      <td>0.68</td>\n",
              "      <td>0.27</td>\n",
              "      <td>0.00</td>\n",
              "      <td>0.09</td>\n",
              "      <td>1.04</td>\n",
              "    </tr>\n",
              "    <tr>\n",
              "      <th>2009</th>\n",
              "      <td>2011</td>\n",
              "      <td>Tom Clancy's Ghost Recon Advanced Warfighter 2</td>\n",
              "      <td>PS3</td>\n",
              "      <td>2007.0</td>\n",
              "      <td>Shooter</td>\n",
              "      <td>Ubisoft</td>\n",
              "      <td>0.34</td>\n",
              "      <td>0.48</td>\n",
              "      <td>0.02</td>\n",
              "      <td>0.19</td>\n",
              "      <td>1.04</td>\n",
              "    </tr>\n",
              "  </tbody>\n",
              "</table>\n",
              "</div>"
            ],
            "text/plain": [
              "      Rank  ... Global_Sales\n",
              "2000  2002  ...         1.04\n",
              "2001  2003  ...         1.04\n",
              "2002  2004  ...         1.04\n",
              "2003  2005  ...         1.04\n",
              "2004  2006  ...         1.04\n",
              "2005  2007  ...         1.04\n",
              "2006  2008  ...         1.04\n",
              "2007  2009  ...         1.04\n",
              "2008  2010  ...         1.04\n",
              "2009  2011  ...         1.04\n",
              "\n",
              "[10 rows x 11 columns]"
            ]
          },
          "metadata": {},
          "execution_count": 6
        }
      ]
    },
    {
      "cell_type": "code",
      "metadata": {
        "colab": {
          "base_uri": "https://localhost:8080/",
          "height": 849
        },
        "id": "tX6nr--4YQCx",
        "outputId": "6dda202e-a4b2-4841-baaf-785faddf004e"
      },
      "source": [
        "#membuat distplot dara numerik\n",
        "for i in range (0, len(num)):\n",
        "   plt.subplot(2, len(num)/2, i+1)\n",
        "   sns.distplot(df[num[i]], color='green')\n",
        "   plt.tight_layout()"
      ],
      "execution_count": null,
      "outputs": [
        {
          "output_type": "stream",
          "name": "stderr",
          "text": [
            "/usr/local/lib/python3.7/dist-packages/seaborn/distributions.py:2619: FutureWarning: `distplot` is a deprecated function and will be removed in a future version. Please adapt your code to use either `displot` (a figure-level function with similar flexibility) or `histplot` (an axes-level function for histograms).\n",
            "  warnings.warn(msg, FutureWarning)\n",
            "/usr/local/lib/python3.7/dist-packages/seaborn/distributions.py:2619: FutureWarning: `distplot` is a deprecated function and will be removed in a future version. Please adapt your code to use either `displot` (a figure-level function with similar flexibility) or `histplot` (an axes-level function for histograms).\n",
            "  warnings.warn(msg, FutureWarning)\n",
            "/usr/local/lib/python3.7/dist-packages/seaborn/distributions.py:2619: FutureWarning: `distplot` is a deprecated function and will be removed in a future version. Please adapt your code to use either `displot` (a figure-level function with similar flexibility) or `histplot` (an axes-level function for histograms).\n",
            "  warnings.warn(msg, FutureWarning)\n",
            "/usr/local/lib/python3.7/dist-packages/seaborn/distributions.py:2619: FutureWarning: `distplot` is a deprecated function and will be removed in a future version. Please adapt your code to use either `displot` (a figure-level function with similar flexibility) or `histplot` (an axes-level function for histograms).\n",
            "  warnings.warn(msg, FutureWarning)\n",
            "/usr/local/lib/python3.7/dist-packages/seaborn/distributions.py:2619: FutureWarning: `distplot` is a deprecated function and will be removed in a future version. Please adapt your code to use either `displot` (a figure-level function with similar flexibility) or `histplot` (an axes-level function for histograms).\n",
            "  warnings.warn(msg, FutureWarning)\n",
            "/usr/local/lib/python3.7/dist-packages/seaborn/distributions.py:2619: FutureWarning: `distplot` is a deprecated function and will be removed in a future version. Please adapt your code to use either `displot` (a figure-level function with similar flexibility) or `histplot` (an axes-level function for histograms).\n",
            "  warnings.warn(msg, FutureWarning)\n"
          ]
        },
        {
          "output_type": "display_data",
          "data": {
            "image/png": "[encoded data removed]",
            "text/plain": [
              "<Figure size 864x288 with 6 Axes>"
            ]
          },
          "metadata": {
            "needs_background": "light"
          }
        }
      ]
    },
    {
      "cell_type": "markdown",
      "metadata": {
        "id": "1WvBkozlBIFd"
      },
      "source": [
        "* Data ke-2000 hingga 2010 dan distplot yang dibentuk memperlihatkan data penjualan di NA, EU, JP, Other dan Global didominasi oleh nilai 0 hingga 1 juta.\n",
        "* Diperlukan penanganan jika ingin menganalisis data menggunakan model yang membutuhkan asumsi normalitas."
      ]
    },
    {
      "cell_type": "code",
      "metadata": {
        "colab": {
          "base_uri": "https://localhost:8080/",
          "height": 494
        },
        "id": "qosZH9CDjM61",
        "outputId": "1864b0b9-dcbc-4c19-9fec-fc4c4e9e2b53"
      },
      "source": [
        "#membuat countplot data kategorik\n",
        "newcats=['Genre','Platform']\n",
        "for i in range(0, len(newcats)):\n",
        "     plt.subplot(len(newcats),1,i+1)\n",
        "     sns.countplot(df[newcats[i]],color='green', orient='v')\n",
        "     plt.xticks(rotation=20)\n",
        "     plt.xlabel(cats[i], fontsize=6)\n",
        "     plt.tight_layout()"
      ],
      "execution_count": null,
      "outputs": [
        {
          "output_type": "stream",
          "name": "stderr",
          "text": [
            "/usr/local/lib/python3.7/dist-packages/seaborn/_decorators.py:43: FutureWarning: Pass the following variable as a keyword arg: x. From version 0.12, the only valid positional argument will be `data`, and passing other arguments without an explicit keyword will result in an error or misinterpretation.\n",
            "  FutureWarning\n",
            "/usr/local/lib/python3.7/dist-packages/seaborn/_decorators.py:43: FutureWarning: Pass the following variable as a keyword arg: x. From version 0.12, the only valid positional argument will be `data`, and passing other arguments without an explicit keyword will result in an error or misinterpretation.\n",
            "  FutureWarning\n"
          ]
        },
        {
          "output_type": "display_data",
          "data": {
            "image/png": "[encoded data removed]",
            "text/plain": [
              "<Figure size 864x288 with 2 Axes>"
            ]
          },
          "metadata": {
            "needs_background": "light"
          }
        }
      ]
    },
    {
      "cell_type": "markdown",
      "metadata": {
        "id": "tEJADvKGCjLS"
      },
      "source": [
        "* Atribut `Year` dan `Publisher` tidak dibentuk countplotnya karena memiliki nilai unik yang terlalu banyak sehingga kemungkinan atribut tersebut tidak terlalu berguna untuk menjadi prediktor.\n",
        "* Sebaran `Platform` tidak merata, dilihat dari kesenjangan nilai antar publisher. Misalnya, banyak publisher \"SCD\", \"WS\",\"NG\", \"TG16\",\"3DO\", \"GG\" dan \"PCFX\" mendekati 0 sedangkan \"D5\"dan \"PS2\" banyaknya mencapai 2000."
      ]
    },
    {
      "cell_type": "markdown",
      "metadata": {
        "id": "8Co5lpkGIo2q"
      },
      "source": [
        "##**Multivariate Analysis**"
      ]
    },
    {
      "cell_type": "code",
      "metadata": {
        "colab": {
          "base_uri": "https://localhost:8080/",
          "height": 285
        },
        "id": "UPTU0YHzmqZ3",
        "outputId": "e7e934cb-c30a-40a4-a8d7-ad09f62f4c54"
      },
      "source": [
        "#membentuk heatmap berisi korelasi antar atribut numerik\n",
        "newnum=['NA_Sales','EU_Sales','JP_Sales', 'Other_Sales','Global_Sales']\n",
        "sns.heatmap(df[newnum].corr(), cmap='Blues', annot=True, fmt='.2f')"
      ],
      "execution_count": null,
      "outputs": [
        {
          "output_type": "execute_result",
          "data": {
            "text/plain": [
              "<matplotlib.axes._subplots.AxesSubplot at 0x7fbf96471050>"
            ]
          },
          "metadata": {},
          "execution_count": 14
        },
        {
          "output_type": "display_data",
          "data": {
            "image/png": "[encoded data removed]",
            "text/plain": [
              "<Figure size 864x288 with 2 Axes>"
            ]
          },
          "metadata": {
            "needs_background": "light"
          }
        }
      ]
    },
    {
      "cell_type": "markdown",
      "metadata": {
        "id": "7XMXINugD1f8"
      },
      "source": [
        "* Atribut yang berkorelasi sangat tinggi yaitu `NA_Sales` dengan `Global_Sales` serta `EU_Sales` dengan `Global_Sales`, sehingga memungkinkan kedua atribut tersebut redundan.\n",
        "* Mengingat atribut `Global_Sales` merupakan penjumlahan semua penjualan (NA, EU, JP, dan Other), maka atribut tersebut dapat dihapus."
      ]
    },
    {
      "cell_type": "code",
      "metadata": {
        "colab": {
          "base_uri": "https://localhost:8080/",
          "height": 285
        },
        "id": "lIXsT3UWs4QF",
        "outputId": "089711e5-e092-41cf-bbf3-fd594305ad3f"
      },
      "source": [
        "#membuat heatmap tanpa atribut `Global_Sales`\n",
        "newnum2=['NA_Sales','EU_Sales','JP_Sales','Other_Sales']\n",
        "sns.heatmap(df[newnum2].corr(), cmap='Greens_r', annot=True, fmt='.2f')"
      ],
      "execution_count": null,
      "outputs": [
        {
          "output_type": "execute_result",
          "data": {
            "text/plain": [
              "<matplotlib.axes._subplots.AxesSubplot at 0x7fbf9666c710>"
            ]
          },
          "metadata": {},
          "execution_count": 19
        },
        {
          "output_type": "display_data",
          "data": {
            "image/png": "[encoded data removed]",
            "text/plain": [
              "<Figure size 864x288 with 2 Axes>"
            ]
          },
          "metadata": {
            "needs_background": "light"
          }
        }
      ]
    },
    {
      "cell_type": "markdown",
      "metadata": {
        "id": "g8Wd_wj0GSRG"
      },
      "source": [
        "## **Kesimpulan**\n",
        "* Nilai null atau missing values pada atribut `Year` perlu dihilangkan pada tahap pre-processing.\n",
        "* Nilai penjualan lebih dari 1 juta pada atribut `NA_Sales`, `EU_Sales`, `JP_Sales`, `Other_Sales` dan `Global_Sales` perlu dihilangkan karena merupakan outlier.\n",
        "* Atribut `Global_Sales` dapat dihilangkan karena redundan (memiliki nilai sama dengan atribut yang lain)."
      ]
    }
  ]
}